{
  "nbformat": 4,
  "nbformat_minor": 0,
  "metadata": {
    "colab": {
      "provenance": []
    },
    "kernelspec": {
      "name": "python3",
      "display_name": "Python 3"
    },
    "language_info": {
      "name": "python"
    }
  },
  "cells": [
    {
      "cell_type": "code",
      "execution_count": null,
      "metadata": {
        "colab": {
          "base_uri": "https://localhost:8080/"
        },
        "id": "jA0AJL9R7SX_",
        "outputId": "534f9e20-29cf-4865-87cf-1760ce91b522"
      },
      "outputs": [
        {
          "output_type": "stream",
          "name": "stdout",
          "text": [
            "房號:2005\n",
            "2005\n"
          ]
        }
      ],
      "source": [
        "\n",
        "code=input(\"房號:\")\n",
        "print(code)"
      ]
    },
    {
      "cell_type": "code",
      "source": [
        "Chinese=eval(input(\"plz enter Chinese score：\"))\n",
        "English=eval(input(\"plz enter English score:\"))\n",
        "#eval =將字串去掉,變成一個運算式,可以接受浮點數\n",
        "\n",
        "print(\"total:\"+str(Chinese+English))\n",
        "\n",
        "#print(\"Chinese:\"+str(Chinese)+\",English:\"+str(English)+\",Total:\"+str(Chinese+English))\n",
        "#字串插補 如下\n",
        "print(f\"Chinese:{Chinese}, English:{English}, Total:{Chinese+English}\")\n"
      ],
      "metadata": {
        "colab": {
          "base_uri": "https://localhost:8080/"
        },
        "id": "63D5LzmeCpLh",
        "outputId": "94453d3a-3818-4d4c-d42d-b55471c08217"
      },
      "execution_count": null,
      "outputs": [
        {
          "output_type": "stream",
          "name": "stdout",
          "text": [
            "plz enter Chinese score：10.0\n",
            "plz enter English score:10.0\n",
            "total:20.0\n",
            "Chinese:10.0, English:10.0, Total:20.0\n"
          ]
        }
      ]
    },
    {
      "cell_type": "code",
      "source": [
        "number=eval(input(\"輸入數學運算\"))\n",
        "print(number)"
      ],
      "metadata": {
        "colab": {
          "base_uri": "https://localhost:8080/"
        },
        "id": "pTRkvn3NYAcL",
        "outputId": "03234fbb-5d0e-4416-b16d-b6b8e7da1ea2"
      },
      "execution_count": null,
      "outputs": [
        {
          "output_type": "stream",
          "name": "stdout",
          "text": [
            "輸入數學運算10+10.0\n",
            "20.0\n"
          ]
        }
      ]
    },
    {
      "cell_type": "code",
      "source": [
        "#讓使用者輸入被除數以及除數\n",
        "#程式會顯示兩數相除的商以及餘數\n",
        "x=int(input(\"輸入被除數\"))\n",
        "y=int(input(\"輸入除數\"))\n",
        "print(f\"商：{x//y},餘數：{x%y}\")\n",
        "\n"
      ],
      "metadata": {
        "colab": {
          "base_uri": "https://localhost:8080/"
        },
        "id": "VxIzHZYlbVCd",
        "outputId": "18077ec6-7e2a-4f8a-ab7d-8bafa593f864"
      },
      "execution_count": null,
      "outputs": [
        {
          "output_type": "stream",
          "name": "stdout",
          "text": [
            "輸入被除數10\n",
            "輸入除數5\n",
            "商：2,餘數：0\n"
          ]
        }
      ]
    },
    {
      "cell_type": "code",
      "source": [
        "#使用者輸入梯形之上底，下底，高，程式會計算梯形面積（上底＋下底＊高／２）\n",
        "top=eval(input(\"請輸入梯形上底\"))\n",
        "bottom=eval(input(\"請輸入梯形下底\"))\n",
        "height=eval(input(\"請輸入梯形的高\"))\n",
        "area=(top+bottom)*height/2\n",
        "print(f\"梯形面積：{area:.2f}平方公分\")\n"
      ],
      "metadata": {
        "colab": {
          "base_uri": "https://localhost:8080/"
        },
        "id": "1yfAzeE0Mycb",
        "outputId": "7bab0963-4ebb-408f-cea4-e8371d9e898a"
      },
      "execution_count": null,
      "outputs": [
        {
          "output_type": "stream",
          "name": "stdout",
          "text": [
            "請輸入梯形上底123\n",
            "請輸入梯形下底45\n",
            "請輸入梯形的高67\n",
            "梯形面積：5628.00平方公分\n"
          ]
        }
      ]
    },
    {
      "cell_type": "code",
      "source": [
        "x=15\n",
        "x=x+5\n",
        "x\n",
        "\n",
        "#複合指定運算子\n",
        "x=15\n",
        "x+=5\n",
        "x"
      ],
      "metadata": {
        "colab": {
          "base_uri": "https://localhost:8080/"
        },
        "id": "Wu4RIteqSBE4",
        "outputId": "37e91124-34d5-49ee-fe13-162dbf77095a"
      },
      "execution_count": null,
      "outputs": [
        {
          "output_type": "execute_result",
          "data": {
            "text/plain": [
              "20"
            ]
          },
          "metadata": {},
          "execution_count": 1
        }
      ]
    },
    {
      "cell_type": "code",
      "source": [
        "x=15\n",
        "x+=5\n",
        "x"
      ],
      "metadata": {
        "id": "5YfeRreATQ0V",
        "outputId": "7711fcdc-2e5d-478a-8d75-d39bd78b7b45",
        "colab": {
          "base_uri": "https://localhost:8080/"
        }
      },
      "execution_count": null,
      "outputs": [
        {
          "output_type": "execute_result",
          "data": {
            "text/plain": [
              "20"
            ]
          },
          "metadata": {},
          "execution_count": 7
        }
      ]
    },
    {
      "cell_type": "code",
      "source": [
        "1!=5"
      ],
      "metadata": {
        "colab": {
          "base_uri": "https://localhost:8080/"
        },
        "id": "Fuw4JgKjcojL",
        "outputId": "8302dae4-c34f-40ce-9366-6887a26a8dc0"
      },
      "execution_count": null,
      "outputs": [
        {
          "output_type": "execute_result",
          "data": {
            "text/plain": [
              "True"
            ]
          },
          "metadata": {},
          "execution_count": 7
        }
      ]
    }
  ]
}