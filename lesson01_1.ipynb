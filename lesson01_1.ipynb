{
  "nbformat": 4,
  "nbformat_minor": 0,
  "metadata": {
    "colab": {
      "provenance": []
    },
    "kernelspec": {
      "name": "python3",
      "display_name": "Python 3"
    },
    "language_info": {
      "name": "python"
    }
  },
  "cells": [
    {
      "cell_type": "code",
      "source": [
        "print(40)#整數\n",
        "print(40.0)#浮點數\n",
        "print(True)#布林值\n",
        "print(\"40.0\")#字串\n"
      ],
      "metadata": {
        "colab": {
          "base_uri": "https://localhost:8080/"
        },
        "id": "uA5IigE-vk3q",
        "outputId": "53337b5d-6bff-4544-b323-3830dc57f0a8"
      },
      "execution_count": null,
      "outputs": [
        {
          "output_type": "stream",
          "name": "stdout",
          "text": [
            "40\n",
            "40.0\n",
            "True\n",
            "40.0\n"
          ]
        }
      ]
    },
    {
      "cell_type": "markdown",
      "source": [
        "# 新增區段"
      ],
      "metadata": {
        "id": "Tp1fhA5R_jEh"
      }
    },
    {
      "cell_type": "code",
      "source": [
        "#整數運算\n",
        "print(10+10)\n",
        "print(10-10)\n",
        "print(10*10)\n",
        "print(10/10)\n",
        "print(10//10)\n",
        "print(8%5)\n",
        "print(99**99)"
      ],
      "metadata": {
        "colab": {
          "base_uri": "https://localhost:8080/"
        },
        "id": "P1sT1hBH0FMA",
        "outputId": "3aabf2fd-985d-45d4-b985-60cdbb715639"
      },
      "execution_count": null,
      "outputs": [
        {
          "output_type": "stream",
          "name": "stdout",
          "text": [
            "20\n",
            "0\n",
            "100\n",
            "1.0\n",
            "1\n",
            "3\n",
            "369729637649726772657187905628805440595668764281741102430259972423552570455277523421410650010128232727940978889548326540119429996769494359451621570193644014418071060667659301384999779999159200499899\n"
          ]
        }
      ]
    },
    {
      "cell_type": "code",
      "source": [
        "print(1.0+1)\n",
        "print(1.0+1.0+2.5)\n",
        "print(8+5*5)\n",
        "print(2*(2+2)**2+2**2*2)"
      ],
      "metadata": {
        "colab": {
          "base_uri": "https://localhost:8080/"
        },
        "id": "aoUcQX9F4sqe",
        "outputId": "0701a8ce-138a-47ac-fdda-a43dd403966d"
      },
      "execution_count": null,
      "outputs": [
        {
          "output_type": "stream",
          "name": "stdout",
          "text": [
            "2.0\n",
            "4.5\n",
            "33\n",
            "40\n"
          ]
        }
      ]
    },
    {
      "cell_type": "code",
      "source": [
        "1+-3\n",
        "1+1"
      ],
      "metadata": {
        "colab": {
          "base_uri": "https://localhost:8080/"
        },
        "id": "jbbBHp9W7goY",
        "outputId": "6faa5273-94fe-4b43-a664-bd8c41c5dea3"
      },
      "execution_count": null,
      "outputs": [
        {
          "output_type": "execute_result",
          "data": {
            "text/plain": [
              "2"
            ]
          },
          "metadata": {},
          "execution_count": 16
        }
      ]
    },
    {
      "cell_type": "code",
      "source": [
        "print(\"me\"*2)\n",
        "print(\"abc\"+\"123\")\n",
        "#if 字串\"\"和數值相加>無法做運算 ex:\"abc\"+123\n",
        "print(\"me\"+str(10))\n",
        "print(10+int(\"10\"))\n",
        "print(float(\"10.0\")+5)\n",
        "print(float(\"10.3\")+9)\n",
        "\n"
      ],
      "metadata": {
        "colab": {
          "base_uri": "https://localhost:8080/"
        },
        "id": "PYMAbYBL4yGL",
        "outputId": "32ac9a0c-ed0e-48fa-aef8-832ebe45b7fd"
      },
      "execution_count": null,
      "outputs": [
        {
          "output_type": "stream",
          "name": "stdout",
          "text": [
            "meme\n",
            "abc123\n",
            "me10\n",
            "20\n",
            "15.0\n",
            "19.3\n"
          ]
        }
      ]
    }
  ]
}